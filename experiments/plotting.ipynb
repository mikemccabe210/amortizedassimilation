{
 "cells": [
  {
   "cell_type": "code",
   "execution_count": 9,
   "metadata": {
    "collapsed": true
   },
   "outputs": [],
   "source": [
    "import torch\n",
    "import torch.nn.functional as F\n",
    "import torch.nn as nn\n",
    "import torch.optim as optim\n",
    "from torch_oopt.optim import LBFGS\n",
    "import os\n",
    "import argparse\n",
    "import time\n",
    "import datetime\n",
    "import numpy as np\n",
    "import obs_configs\n",
    "import csv\n",
    "\n",
    "from torchdiffeq import odeint\n",
    "from torch.utils.data import DataLoader\n",
    "from amortized_assimilation.data_utils import ChunkedTimeseries, L96, TimeStack, gen_data\n",
    "from amortized_assimilation.models import MultiObs_ConvEnAF, MultiObs_UEnAF\n",
    "from amortized_assimilation.operators import filter_obs, mystery_operator"
   ]
  },
  {
   "cell_type": "code",
   "execution_count": 10,
   "outputs": [],
   "source": [
    "def test(epoch, start_time, base_data, noise, m, model, obs_dict, indices, device, missing = False):\n",
    "    \"\"\"Test loop\"\"\"\n",
    "    with torch.no_grad():\n",
    "        state = base_data[0]\n",
    "        state = state.unsqueeze(1).repeat(1, m, 1)\n",
    "        state += torch.randn_like(state) * noise\n",
    "        state = state.to(device = device)\n",
    "        noisy_test = base_data + torch.randn_like(base_data) * noise\n",
    "        noisy_test = noisy_test.to(device = device)\n",
    "        pred_y_test, _, _, ens = assimilate_unseen_obs_ens(model, noisy_test, state, m,\n",
    "                                                           obs_dict, indices, device, missing)\n",
    "        loss = torch.mean(torch.mean((pred_y_test.cpu() - base_data.squeeze())**2, dim = 1)**.5)\n",
    "        n = ens.shape[0]\n",
    "        ens_std = [torch.std(ens[i*(n//10):(i+1)*(n//10)], 1).mean().item() for i in range(10)]\n",
    "        ens_std_s = [format(torch.std(ens[i*(n//10):(i+1)*(n//10)], 1).mean().item(), '.4f') for i in range(10)]\n",
    "        ens_loss = [format(torch.mean(torch.mean((pred_y_test.cpu()[i*(n//10):(i+1)*(n//10)]\n",
    "                                           - base_data.squeeze()[i*(n//10):(i+1)*(n//10)])**2, dim = 1)**.5).item(),\n",
    "                           '.4f')\n",
    "                    for i in range(10)]\n",
    "        print('Iter {:04d} | Test Loss {:.6f} | test_std {:.4f} | Time {:.1f}'.format(epoch, loss.item(),\n",
    "                                                                                      sum(ens_std)/10.,\n",
    "                                                                                      time.time() - start_time))\n",
    "        print('Segmentwise loss/std', list(zip(ens_loss, ens_std_s)))\n",
    "        # print('Iter {:04d} | Total Loss {:.6f} | Time {:.1f}'.format(epoch, loss.item(), time.time() - start_time))\n",
    "        return loss\n",
    "\n",
    "def assimilate_unseen_obs_ens(model, data, state, m, obs_dict, indices, device, missing):\n",
    "    \"\"\" Executes online assimilation\"\"\"\n",
    "    preds = []\n",
    "    states = []\n",
    "    filtered_preds = []\n",
    "    filtered_obs = []\n",
    "    ensembles = []\n",
    "    memory = torch.zeros(m, 6, 40, device = device)\n",
    "\n",
    "    for i, obsi in enumerate(data):\n",
    "        # Masking\n",
    "        if missing:\n",
    "            obs = state.detach()[:, torch.randperm(m), :]\n",
    "            obs[:, :, indices[str(i %  len(obs_dict))]] = (obs_dict[str(i % len(obs_dict))](obsi)).unsqueeze(1).repeat(1, m, 1)\n",
    "            mask = torch.ones(obs.shape[0], m,  40, device = device) * -.1\n",
    "            mask[:, :, indices[str(i % len(obs_dict))]] = .1\n",
    "            obs_type = '0'\n",
    "        else:\n",
    "            obs = obsi.unsqueeze(1).repeat(1, m, 1)\n",
    "            mask = None\n",
    "            obs_type = '0'\n",
    "        pred, state, ens, memory = model(obs, state, memory, mask,\n",
    "                                                obs_type\n",
    "                                              )\n",
    "        states.append(state)\n",
    "        preds.append(pred)\n",
    "        ensembles.append(ens)\n",
    "\n",
    "        i += 1\n",
    "    return (torch.stack(preds, dim = 0).squeeze(), torch.stack(states, dim = 0).squeeze(),\n",
    "            memory, torch.stack(ensembles, dim = 0).squeeze())"
   ],
   "metadata": {
    "collapsed": false,
    "pycharm": {
     "name": "#%%\n"
    }
   }
  },
  {
   "cell_type": "code",
   "execution_count": 11,
   "outputs": [],
   "source": [
    "\n",
    "class dummy():\n",
    "    def add_argument(self, name, type = None, action = None, default = None):\n",
    "        if action is not None:\n",
    "            setattr(self, name[2:], True)\n",
    "        elif default is not None:\n",
    "            setattr(self, name[2:], default)\n",
    "\n",
    "args = dummy()\n",
    "args.add_argument('--dynamics', type=str, default='lorenz96')\n",
    "args.add_argument('--train_steps', type=int, default=240_000)\n",
    "args.add_argument('--step_size', type=float, default=.1)\n",
    "args.add_argument('--batch_steps', type=int, default=40)\n",
    "args.add_argument('--batch_size', type=int, default=64)\n",
    "args.add_argument('--m', type=int, default=5)\n",
    "args.add_argument('--n', type=int, default=40)\n",
    "args.add_argument('--hidden_size', type=int, default=64)\n",
    "args.add_argument('--noise', type=float, default=1.0)\n",
    "args.add_argument('--steps_valid', type=int, default=1000)\n",
    "args.add_argument('--steps_test', type=int, default=10000)\n",
    "args.add_argument('--check_disk', action='store_false')\n",
    "args.add_argument('--obs_conf', type=str, default='every_4th_dim_partial_obs')\n",
    "# args.add_argument('--obs_conf', type=str, default='full_obs')\n",
    "args.add_argument('--do', type=float, default = .2)\n",
    "args.add_argument('--device', type=str, default = 'gpu')\n",
    "\n",
    "if args.device == 'gpu' and torch.cuda.is_available():\n",
    "    device = torch.device('cuda')\n",
    "else:\n",
    "    device = torch.device('cpu')\n",
    "\n",
    "if args.obs_conf == 'every_4th_dim_partial_obs':\n",
    "    missing = True\n",
    "else:\n",
    "    missing = False"
   ],
   "metadata": {
    "collapsed": false,
    "pycharm": {
     "name": "#%%\n"
    }
   }
  },
  {
   "cell_type": "code",
   "execution_count": 12,
   "outputs": [
    {
     "name": "stdout",
     "output_type": "stream",
     "text": [
      "torch.return_types.max(\n",
      "values=tensor([[14.2660, 14.6090, 15.5068, 14.9297, 14.8302, 15.3349, 15.2931, 15.2986,\n",
      "         14.5851, 15.4455, 14.6423, 14.7645, 15.4237, 14.9571, 14.0401, 14.3829,\n",
      "         14.9659, 14.5102, 15.3957, 14.9481, 15.2749, 14.7238, 14.3481, 14.2430,\n",
      "         14.8245, 15.2190, 14.8637, 15.5550, 14.4125, 14.7028, 14.8244, 14.4934,\n",
      "         15.1251, 15.7087, 14.9530, 14.1860, 14.7433, 16.4774, 14.3877, 14.8334]]),\n",
      "indices=tensor([[ 81606,  39221, 226929, 197613, 106480, 232094, 132012, 111264, 215132,\n",
      "         136947,  53852, 214263, 127270, 208686,  55333, 182263, 223516, 100037,\n",
      "         142609, 149733, 142728,  45169, 123948,  92716, 207700, 169419,  93137,\n",
      "           7943,  28354, 219795, 214747,  20403,  62134, 186728, 190992,  94517,\n",
      "          31404,  33347, 146376,  88804]]))\n",
      "Param Count 69710\n",
      "---Test set Results---\n",
      "Iter 0000 | Test Loss 0.630299 | test_std 0.2875 | Time 57.5\n",
      "Segmentwise loss/std [('0.6069', '0.2862'), ('0.6297', '0.2866'), ('0.6413', '0.2887'), ('0.6641', '0.2886'), ('0.6083', '0.2887'), ('0.6427', '0.2973'), ('0.6261', '0.2852'), ('0.6258', '0.2881'), ('0.6342', '0.2839'), ('0.6239', '0.2818')]\n"
     ]
    }
   ],
   "source": [
    "t = torch.arange(0, args.train_steps*args.step_size, args.step_size)\n",
    "true_y, true_y_valid, true_y_test = gen_data('lorenz96', t, args.steps_test,\n",
    "                                             args.steps_valid, check_disk=args.check_disk)\n",
    "print(true_y.max(dim = 0))\n",
    "\n",
    "# Set up obs operators - uses full obs for input types since only one network is used\n",
    "input_types, obs_dict, indices, known_h = obs_configs.lorenz_configs[args.obs_conf]\n",
    "input_types, _, _, known_h = obs_configs.lorenz_configs['full_obs']\n",
    "\n",
    "ntypes = len(obs_dict)\n",
    "# Set up model\n",
    "model = MultiObs_ConvEnAF(args.n, args.hidden_size, input_types=input_types,\n",
    "                         m = args.m, missing = missing, do = args.do)\n",
    "# Get param count\n",
    "model_parameters = filter(lambda p: p.requires_grad, model.parameters())\n",
    "print('Param Count', sum([np.prod(p.size()) for p in model_parameters]))\n",
    "\n",
    "### LOAD MODEL\n",
    "model.load_state_dict(torch.load('models/2021-01-30_09-09lorenz96_partial_1.0std_64layers/final_convref_lorenz96_partial_0.6111_1.0std_500iters_64filt'))\n",
    "### LOAD MODEL\n",
    "\n",
    "model = model.to(device = device)\n",
    "# print(model)\n",
    "optimizer = optim.AdamW(model.parameters(), lr=1e-3, weight_decay = 0)\n",
    "# optimizer = LBFGS(model.parameters(), lr=1e-3)\n",
    "dummy_sched = dummy()\n",
    "dummy_sched.step = lambda: None\n",
    "\n",
    "data = ChunkedTimeseries(true_y, args.batch_steps, .5)\n",
    "loader = DataLoader(data, batch_size=args.batch_size,\n",
    "                    shuffle=True, num_workers=0, collate_fn=TimeStack())\n",
    "if args.obs_conf == 'full_obs':\n",
    "    otype = 'full'\n",
    "else:\n",
    "    otype = 'partial'\n",
    "\n",
    "start_time = time.time()\n",
    "# Training\n",
    "itr = 0\n",
    "train_losses = []\n",
    "test_losses = []\n",
    "print('---Test set Results---')\n",
    "test_loss = test(itr, start_time, true_y_test, args.noise, args.m, model, obs_dict, indices, device, missing)"
   ],
   "metadata": {
    "collapsed": false,
    "pycharm": {
     "name": "#%%\n"
    }
   }
  }
 ],
 "metadata": {
  "kernelspec": {
   "display_name": "Python 3",
   "language": "python",
   "name": "python3"
  },
  "language_info": {
   "codemirror_mode": {
    "name": "ipython",
    "version": 2
   },
   "file_extension": ".py",
   "mimetype": "text/x-python",
   "name": "python",
   "nbconvert_exporter": "python",
   "pygments_lexer": "ipython2",
   "version": "2.7.6"
  }
 },
 "nbformat": 4,
 "nbformat_minor": 0
}